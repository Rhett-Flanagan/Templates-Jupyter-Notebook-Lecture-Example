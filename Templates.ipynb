{
 "cells": [
  {
   "cell_type": "markdown",
   "id": "eaca4734",
   "metadata": {},
   "source": [
    "# Templates in C++\n",
    "To get used to the idea and format of creating a template, we will first create a class template for a function that calculates the product of two values. First we need to declare the class as a template, then we need to create some methods to do the job of summing the template up.\n"
   ]
  },
  {
   "cell_type": "code",
   "execution_count": 6,
   "id": "30ca01ef",
   "metadata": {},
   "outputs": [],
   "source": [
    "#include <iostream>\n",
    "#include <string>\n",
    "\n",
    "template <typename Numeric> class Product {\n",
    "\n",
    "    private:\n",
    "    Numeric val1, val2; // Our numbers, both being of type T\n",
    "\n",
    "    public:\n",
    "    Product(Numeric v1, Numeric v2){\n",
    "        val1 = v1;\n",
    "        val2 = v2;\n",
    "    }\n",
    "\n",
    "    Numeric multiply(){ // Return the product of type T\n",
    "        return val1 * val2;\n",
    "    }\n",
    "\n",
    "    void output(){\n",
    "        std::cout << val1 << \" * \" << val2 << \" = \" << multiply() << std::endl;\n",
    "    }\n",
    "};\n"
   ]
  },
  {
   "cell_type": "markdown",
   "id": "18d6a44a",
   "metadata": {},
   "source": [
    "Now lets try use the class with a few different types."
   ]
  },
  {
   "cell_type": "markdown",
   "id": "370f21f5",
   "metadata": {},
   "source": [
    "First we have some numeric values:"
   ]
  },
  {
   "cell_type": "code",
   "execution_count": 7,
   "id": "519d35a5",
   "metadata": {},
   "outputs": [
    {
     "name": "stdout",
     "output_type": "stream",
     "text": [
      "Integer Product:\n",
      "Type of multiply() result from intP: i\n",
      "2 * 5 = 10\n",
      "\n",
      "Float Product:\n",
      "Type of multiply() result from floatP: f\n",
      "5.5 * 3.2 = 17.6\n"
     ]
    }
   ],
   "source": [
    "// Numeric Values\n",
    "Product<int> intP(2,5);\n",
    "Product<float> floatP(5.5, 3.2);\n",
    "\n",
    "std::cout << \"Integer Product:\\n\";\n",
    "\n",
    "auto intM = intP.multiply();\n",
    "\n",
    "std::cout << \"Type of multiply() result from intP: \"<< typeid(intM).name() << std::endl;\n",
    "\n",
    "intP.output();\n",
    "\n",
    "std::cout << \"\\nFloat Product:\\n\";\n",
    "\n",
    "auto floatM = floatP.multiply();\n",
    "\n",
    "std::cout << \"Type of multiply() result from floatP: \"<< typeid(floatM).name() << std::endl;\n",
    "\n",
    "floatP.output();"
   ]
  },
  {
   "cell_type": "markdown",
   "id": "c77375c2",
   "metadata": {},
   "source": [
    "Now lets try it with a string:"
   ]
  },
  {
   "cell_type": "code",
   "execution_count": 8,
   "id": "beb23467",
   "metadata": {},
   "outputs": [
    {
     "name": "stderr",
     "output_type": "stream",
     "text": [
      "In file included from input_line_1:1:\n",
      "In file included from /home/rhett/miniconda3/bin/../lib/gcc/x86_64-conda-linux-gnu/9.3.0/../../../../x86_64-conda-linux-gnu/include/c++/9.3.0/new:40:\n",
      "In file included from /home/rhett/miniconda3/bin/../lib/gcc/x86_64-conda-linux-gnu/9.3.0/../../../../x86_64-conda-linux-gnu/include/c++/9.3.0/exception:144:\n",
      "In file included from /home/rhett/miniconda3/bin/../lib/gcc/x86_64-conda-linux-gnu/9.3.0/../../../../x86_64-conda-linux-gnu/include/c++/9.3.0/bits/nested_exception.h:40:\n",
      "In file included from /home/rhett/miniconda3/bin/../lib/gcc/x86_64-conda-linux-gnu/9.3.0/../../../../x86_64-conda-linux-gnu/include/c++/9.3.0/bits/move.h:55:\n",
      "\u001b[1m/home/rhett/miniconda3/bin/../lib/gcc/x86_64-conda-linux-gnu/9.3.0/../../../../x86_64-conda-linux-gnu/include/c++/9.3.0/type_traits:137:31: \u001b[0m\u001b[0;1;31merror: \u001b[0m\u001b[1mno member named 'value' in 'std::__not_<std::is_lvalue_reference<std::basic_ostream<char> &> >'\u001b[0m\n",
      "    : public conditional<_B1::value, __and_<_B2, _B3, _Bn...>, _B1>::type\n",
      "\u001b[0;1;32m                         ~~~~~^\n",
      "\u001b[0m\u001b[1m/home/rhett/miniconda3/bin/../lib/gcc/x86_64-conda-linux-gnu/9.3.0/../../../../x86_64-conda-linux-gnu/include/c++/9.3.0/ostream:685:24: \u001b[0m\u001b[0;1;30mnote: \u001b[0min instantiation of template class 'std::__and_<std::__not_<std::is_lvalue_reference<std::basic_ostream<char> &> >,\n",
      "      std::__is_convertible_to_basic_ostream<std::basic_ostream<char> &>, std::__is_insertable<std::basic_ostream<char>\n",
      "      &, char const (&)[41], void> >' requested here\u001b[0m\n",
      "    typename enable_if<__and_<__not_<is_lvalue_reference<_Ostream>>,\n",
      "\u001b[0;1;32m                       ^\n",
      "\u001b[0m\u001b[1minput_line_17:6:11: \u001b[0m\u001b[0;1;30mnote: \u001b[0mwhile substituting deduced template arguments into function template 'operator<<' [with _Ostream =\n",
      "      std::basic_ostream<char> &, _Tp = char [41]]\u001b[0m\n",
      "std::cout << \"Type of multiply() result from stringP: \"<< typeid(stringM).name() << std::endl;\n",
      "\u001b[0;1;32m          ^\n",
      "\u001b[0m\u001b[1minput_line_15:10:21: \u001b[0m\u001b[0;1;31merror: \u001b[0m\u001b[1minvalid operands to binary expression ('std::__cxx11::basic_string<char>' and 'std::__cxx11::basic_string<char>')\u001b[0m\n",
      "        return val1 * val2;\n",
      "\u001b[0;1;32m               ~~~~ ^ ~~~~\n",
      "\u001b[0m\u001b[1minput_line_17:5:24: \u001b[0m\u001b[0;1;30mnote: \u001b[0min instantiation of member function '__cling_N57::Product<std::__cxx11::basic_string<char> >::multiply' requested here\u001b[0m\n",
      "auto stringM = stringP.multiply();\n",
      "\u001b[0;1;32m                       ^\n",
      "\u001b[0m\u001b[1m/home/rhett/miniconda3/bin/../lib/gcc/x86_64-conda-linux-gnu/9.3.0/../../../../x86_64-conda-linux-gnu/include/c++/9.3.0/bits/valarray_after.h:407:5: \u001b[0m\u001b[0;1;30mnote: \u001b[0mcandidate template ignored: could not match '_Expr' against 'basic_string'\u001b[0m\n",
      "    _DEFINE_EXPR_BINARY_OPERATOR(*, __multiplies)\n",
      "\u001b[0;1;32m    ^\n",
      "\u001b[0m\u001b[1m/home/rhett/miniconda3/bin/../lib/gcc/x86_64-conda-linux-gnu/9.3.0/../../../../x86_64-conda-linux-gnu/include/c++/9.3.0/bits/valarray_after.h:344:5: \u001b[0m\u001b[0;1;30mnote: \u001b[0mexpanded from macro '_DEFINE_EXPR_BINARY_OPERATOR'\u001b[0m\n",
      "    operator _Op(const _Expr<_Dom1, typename _Dom1::value_type>& __v,   \\\n",
      "\u001b[0;1;32m    ^\n",
      "\u001b[0m\u001b[1m/home/rhett/miniconda3/bin/../lib/gcc/x86_64-conda-linux-gnu/9.3.0/../../../../x86_64-conda-linux-gnu/include/c++/9.3.0/bits/valarray_after.h:407:5: \u001b[0m\u001b[0;1;30mnote: \u001b[0mcandidate template ignored: could not match '_Expr' against 'basic_string'\u001b[0m\n",
      "\u001b[1m/home/rhett/miniconda3/bin/../lib/gcc/x86_64-conda-linux-gnu/9.3.0/../../../../x86_64-conda-linux-gnu/include/c++/9.3.0/bits/valarray_after.h:357:5: \u001b[0m\u001b[0;1;30mnote: \u001b[0mexpanded from macro '_DEFINE_EXPR_BINARY_OPERATOR'\u001b[0m\n",
      "    operator _Op(const _Expr<_Dom, typename _Dom::value_type>& __v,     \\\n",
      "\u001b[0;1;32m    ^\n",
      "\u001b[0m\u001b[1m/home/rhett/miniconda3/bin/../lib/gcc/x86_64-conda-linux-gnu/9.3.0/../../../../x86_64-conda-linux-gnu/include/c++/9.3.0/bits/valarray_after.h:407:5: \u001b[0m\u001b[0;1;30mnote: \u001b[0mcandidate template ignored: could not match '_Expr' against 'basic_string'\u001b[0m\n",
      "\u001b[1m/home/rhett/miniconda3/bin/../lib/gcc/x86_64-conda-linux-gnu/9.3.0/../../../../x86_64-conda-linux-gnu/include/c++/9.3.0/bits/valarray_after.h:370:5: \u001b[0m\u001b[0;1;30mnote: \u001b[0mexpanded from macro '_DEFINE_EXPR_BINARY_OPERATOR'\u001b[0m\n",
      "    operator _Op(const typename _Dom::value_type& __t,                  \\\n",
      "\u001b[0;1;32m    ^\n",
      "\u001b[0m\u001b[1m/home/rhett/miniconda3/bin/../lib/gcc/x86_64-conda-linux-gnu/9.3.0/../../../../x86_64-conda-linux-gnu/include/c++/9.3.0/bits/valarray_after.h:407:5: \u001b[0m\u001b[0;1;30mnote: \u001b[0mcandidate template ignored: could not match '_Expr' against 'basic_string'\u001b[0m\n",
      "\u001b[1m/home/rhett/miniconda3/bin/../lib/gcc/x86_64-conda-linux-gnu/9.3.0/../../../../x86_64-conda-linux-gnu/include/c++/9.3.0/bits/valarray_after.h:383:5: \u001b[0m\u001b[0;1;30mnote: \u001b[0mexpanded from macro '_DEFINE_EXPR_BINARY_OPERATOR'\u001b[0m\n",
      "    operator _Op(const _Expr<_Dom,typename _Dom::value_type>& __e,      \\\n",
      "\u001b[0;1;32m    ^\n",
      "\u001b[0m\u001b[1m/home/rhett/miniconda3/bin/../lib/gcc/x86_64-conda-linux-gnu/9.3.0/../../../../x86_64-conda-linux-gnu/include/c++/9.3.0/bits/valarray_after.h:407:5: \u001b[0m\u001b[0;1;30mnote: \u001b[0mcandidate template ignored: could not match '_Expr' against 'basic_string'\u001b[0m\n",
      "\u001b[1m/home/rhett/miniconda3/bin/../lib/gcc/x86_64-conda-linux-gnu/9.3.0/../../../../x86_64-conda-linux-gnu/include/c++/9.3.0/bits/valarray_after.h:396:5: \u001b[0m\u001b[0;1;30mnote: \u001b[0mexpanded from macro '_DEFINE_EXPR_BINARY_OPERATOR'\u001b[0m\n",
      "    operator _Op(const valarray<typename _Dom::value_type>& __v,        \\\n",
      "\u001b[0;1;32m    ^\n",
      "\u001b[0m\u001b[1m/home/rhett/miniconda3/bin/../lib/gcc/x86_64-conda-linux-gnu/9.3.0/../../../../x86_64-conda-linux-gnu/include/c++/9.3.0/valarray:1187:1: \u001b[0m\u001b[0;1;30mnote: \u001b[0mcandidate template ignored: could not match 'valarray' against 'basic_string'\u001b[0m\n",
      "_DEFINE_BINARY_OPERATOR(*, __multiplies)\n",
      "\u001b[0;1;32m^\n",
      "\u001b[0m\u001b[1m/home/rhett/miniconda3/bin/../lib/gcc/x86_64-conda-linux-gnu/9.3.0/../../../../x86_64-conda-linux-gnu/include/c++/9.3.0/valarray:1155:5: \u001b[0m\u001b[0;1;30mnote: \u001b[0mexpanded from macro '_DEFINE_BINARY_OPERATOR'\u001b[0m\n",
      "    operator _Op(const valarray<_Tp>& __v, const valarray<_Tp>& __w)    \\\n",
      "\u001b[0;1;32m    ^\n",
      "\u001b[0m\u001b[1m/home/rhett/miniconda3/bin/../lib/gcc/x86_64-conda-linux-gnu/9.3.0/../../../../x86_64-conda-linux-gnu/include/c++/9.3.0/valarray:1187:1: \u001b[0m\u001b[0;1;30mnote: \u001b[0mcandidate template ignored: could not match 'valarray' against 'basic_string'\u001b[0m\n",
      "\u001b[1m/home/rhett/miniconda3/bin/../lib/gcc/x86_64-conda-linux-gnu/9.3.0/../../../../x86_64-conda-linux-gnu/include/c++/9.3.0/valarray:1166:5: \u001b[0m\u001b[0;1;30mnote: \u001b[0mexpanded from macro '_DEFINE_BINARY_OPERATOR'\u001b[0m\n",
      "    operator _Op(const valarray<_Tp>& __v,                              \\\n",
      "\u001b[0;1;32m    ^\n",
      "\u001b[0m\u001b[1m/home/rhett/miniconda3/bin/../lib/gcc/x86_64-conda-linux-gnu/9.3.0/../../../../x86_64-conda-linux-gnu/include/c++/9.3.0/valarray:1187:1: \u001b[0m\u001b[0;1;30mnote: \u001b[0mcandidate template ignored: could not match 'valarray' against 'basic_string'\u001b[0m\n",
      "\u001b[1m/home/rhett/miniconda3/bin/../lib/gcc/x86_64-conda-linux-gnu/9.3.0/../../../../x86_64-conda-linux-gnu/include/c++/9.3.0/valarray:1177:5: \u001b[0m\u001b[0;1;30mnote: \u001b[0mexpanded from macro '_DEFINE_BINARY_OPERATOR'\u001b[0m\n",
      "    operator _Op(const typename valarray<_Tp>::value_type& __t,         \\\n",
      "\u001b[0;1;32m    ^\n",
      "\u001b[0m"
     ]
    },
    {
     "ename": "Interpreter Error",
     "evalue": "",
     "output_type": "error",
     "traceback": [
      "Interpreter Error: "
     ]
    }
   ],
   "source": [
    "// Strings\n",
    "Product<std::string> stringP(\"Hello\",\"World\");\n",
    "\n",
    "std::cout << \"String Product:\\n\";\n",
    "\n",
    "auto stringM = stringP.multiply();\n",
    "\n",
    "std::cout << \"Type of multiply() result from stringP: \"<< typeid(stringM).name() << std::endl;\n",
    "\n",
    "stringP.output();"
   ]
  },
  {
   "cell_type": "markdown",
   "id": "2c48c44c",
   "metadata": {},
   "source": [
    "As we can see, the class and it's function multiply() don't work too well anymore. Fortunately here the error wasn't a template error so you can pretty quickly identify the error, but as you can see we get a very messy error result."
   ]
  },
  {
   "cell_type": "markdown",
   "id": "07ba6ead",
   "metadata": {},
   "source": [
    "## Function Templates\n",
    "Now lets try creating a templated function. For this one, let us work with multiplication again, but let's say we want this function to work with strings like Python does, and for other types it will multiply them by an integer value."
   ]
  },
  {
   "cell_type": "code",
   "execution_count": 14,
   "id": "4d3836f9",
   "metadata": {},
   "outputs": [],
   "source": [
    "#include <iostream>\n",
    "#include <string>\n",
    "\n",
    "template <typename T> T mult(T v1, int v2){// General case\n",
    "    //This works for numeric values, but not functions that have the * operator overloaded because they won't handle ints.\n",
    "    return v1 * v2;\n",
    "};\n",
    "\n",
    "template <> std::string mult<std::string>(std::string v1, int v2){// Specialised case for Python style string multiplication\n",
    "    std::string builder = v1;// Make sure builder is a string and not a char\n",
    "    for(int i = 1; i < v2; i++){\n",
    "        builder += v1;\n",
    "    }\n",
    "    return builder;\n",
    "};\n"
   ]
  },
  {
   "cell_type": "markdown",
   "id": "f77b4d54",
   "metadata": {},
   "source": [
    "Now lets try out the function"
   ]
  },
  {
   "cell_type": "code",
   "execution_count": 15,
   "id": "f30ece3c",
   "metadata": {},
   "outputs": [
    {
     "name": "stdout",
     "output_type": "stream",
     "text": [
      "int:\n",
      "36\n",
      "\n",
      "float:\n",
      "32.4\n",
      "\n",
      "string:\n",
      "HelloHello\n"
     ]
    }
   ],
   "source": [
    "std::cout << \"int:\\n\";\n",
    "std::cout << mult<int>(6, 6) << std::endl;\n",
    "std::cout << \"\\nfloat:\\n\";\n",
    "std::cout << mult<float>(5.4, 6) << std::endl;\n",
    "std::cout << \"\\nstring:\\n\";\n",
    "std::cout << mult<std::string>(\"Hello\", 2) << std::endl;"
   ]
  },
  {
   "cell_type": "markdown",
   "id": "f7cdd2c1",
   "metadata": {},
   "source": [
    "As we can see here, the specialisation works for strings as intended, and the funciton is still fully usable for other values where you can use the * operator with an int."
   ]
  },
  {
   "cell_type": "markdown",
   "id": "010b9eda",
   "metadata": {},
   "source": [
    "# Multiple Parameters"
   ]
  },
  {
   "cell_type": "code",
   "execution_count": null,
   "id": "87304f9a",
   "metadata": {},
   "outputs": [],
   "source": [
    "#include <iostream>\n",
    "#include <string>\n",
    "\n",
    "template <typename Numeric, <typename> class Product {\n",
    "\n",
    "    private:\n",
    "    Numeric val1, val2; // Our numbers, both being of type T\n",
    "\n",
    "    public:\n",
    "    Product(Numeric v1, Numeric v2){\n",
    "        val1 = v1;\n",
    "        val2 = v2;\n",
    "    }\n",
    "\n",
    "    Numeric multiply(){ // Return the product of type T\n",
    "        return val1 * val2;\n",
    "    }\n",
    "\n",
    "    void output(){\n",
    "        std::cout << val1 << \" * \" << val2 << \" = \" << multiply() << std::endl;\n",
    "    }\n",
    "};"
   ]
  }
 ],
 "metadata": {
  "kernelspec": {
   "display_name": "C++17",
   "language": "C++17",
   "name": "xcpp17"
  },
  "language_info": {
   "codemirror_mode": "text/x-c++src",
   "file_extension": ".cpp",
   "mimetype": "text/x-c++src",
   "name": "c++",
   "version": "17"
  }
 },
 "nbformat": 4,
 "nbformat_minor": 5
}
